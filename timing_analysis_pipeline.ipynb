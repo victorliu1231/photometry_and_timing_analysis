{
 "cells": [
  {
   "cell_type": "markdown",
   "metadata": {},
   "source": [
    "# Timing Analysis Pipeline"
   ]
  },
  {
   "cell_type": "markdown",
   "metadata": {},
   "source": [
    "<b>Description:</b> This pipeline is meant to be part of a three-step process for performing timing analysis on observations of a target time-variable object. The first step of the process was to reduce FITS files of the object by debiasing, dark-subtracting, and flat-fielding. For the pipeline corresponding to the first step, refer to <i>image_reduction_pipeline.ipynb</i>. The second step of the process is to perform aperture photometry on the reduced FITS files and extract the apparent magnitude(s) for the desired object(s). For the pipeline corresponding to the second step, refer to <i>aperture_photometry_pipeline.ipynb</i>. The third step of this process is to perform the timing analysis on the extracted magnitudes themselves. For the pipeline corresponding to the third step, refer to <i>timing_analysis_pipeline.ipynb</i> (this file).\n",
    "\n",
    "<b>This Jupyter Notebook file will perform the third step of this process: timing analysis of the luminosities of the object(s)</b>. It will take in a text file containing the apparent magnitudes, peak counts values, modified Julian dates, and exposure times for the object(s) and their comparison stars in each FITS file.\n",
    "\n",
    "<b>Directions:</b> Put in the locations of the files containing the information about the object(s) and comparison stars at the prompted point. In order to customize the plots and data output, edit the cells of the Jupyter Notebook within this file at the prompted points. The prompted points are any place with bolded text. The Jupyter Notebook is meant to be run and edited within the Jupyter Notebook platform itself, instead of being run from the terminal. This decision was made because data analysis is meant to require an active role in exploring the data, rather than being a completely automated process.\n",
    "\n",
    "<b>Output:</b> A light curve, autocorrelation plot, and a \"mean brightness binned by phase\" plot with a parameter for the orbital period that the data will be folded over. Each plot can be graphed with or without the ellipsoidal variability subtracted from the data. There is also a parameter you can specify in the plotting functions to save the figure within the directory this Jupyter Notebook file is located in.\n",
    "\n",
    "<b>IRAF output vs. pipeline output:</b> You may see the phrases \"IRAF output\" and \"pipeline output\" being mentioned in this Jupyter Notebook. IRAF output refers to the logfile.txt that is created by IRAF whenever you are rimexam-ing stars. Pipeline output refers to the logfile.txt that is created by the Python file from the previous step of this pipeline, <i>aperture_photometry_pipeline.ipynb</i>, whenever you feed that Python file FITS files to extract the apparent magnitudes of objects."
   ]
  },
  {
   "cell_type": "markdown",
   "metadata": {},
   "source": [
    "## Importing Packages and Setting Initial Conditions"
   ]
  },
  {
   "cell_type": "code",
   "execution_count": 1,
   "metadata": {},
   "outputs": [],
   "source": [
    "import numpy as np\n",
    "import matplotlib.pyplot as plt\n",
    "import os\n",
    "import math as math\n",
    "import scipy.optimize\n",
    "import random\n",
    "import warnings\n",
    "import pandas as pd\n",
    "import sys\n",
    "from datetime import datetime\n",
    "from astropy.io import fits\n",
    "from astropy.time import Time\n",
    "from scipy import stats\n",
    "from scipy.optimize import curve_fit\n",
    "from matplotlib.ticker import AutoMinorLocator\n",
    "\n",
    "np.set_printoptions(threshold=sys.maxsize)"
   ]
  },
  {
   "cell_type": "markdown",
   "metadata": {},
   "source": [
    "## Importing A0620 Raw Mags, Compstar Mags, and Peak Count Values From the Logfiles (and then Calculating A0620 True Mags) - also imports MJDs and Exposure Times if using pipeline output"
   ]
  },
  {
   "cell_type": "markdown",
   "metadata": {},
   "source": [
    "Logfile dictionary that contains the PATHs of all the logfiles, separated by filter and night. \n",
    "##### Fill out this dictionary with each filter, each night, and each night's logfile PATH in order to use this pipeline properly."
   ]
  },
  {
   "cell_type": "code",
   "execution_count": 2,
   "metadata": {},
   "outputs": [
    {
     "data": {
      "text/plain": [
       "'\\n# If using logfile output from IRAF, uncomment this code and comment out above code.\\nlogfiles_dict = {\\n    \"B\": {\\n                \"19Dec2020\": \"BVR_band_files/Dec_2020_reduced/Dec_logfile_B.txt\",\\n                \"19Mar2021\": \"BVR_band_files/Mar_2021_reduced/Mar_logfile_B.txt\"\\n              },\\n    \"I\": {\\n                \"19Dec2020\": \"Dec 2020, Mar 2021, and Apr 2021 Dataset\\\\logfile_December_data_only.txt\",\\n                \"19Mar2021\": \"Dec 2020, Mar 2021, and Apr 2021 Dataset\\\\logfile_March_data_only.txt\",\\n                \"16Apr2021\": \"Dec 2020, Mar 2021, and Apr 2021 Dataset\\\\logfile_April_data_only.txt\"\\n                },\\n    \"V\": {\\n                \"19Dec2020\": \"BVR_band_files/Dec_2020_reduced/Dec_logfile_V.txt\",\\n                \"19Mar2021\": \"BVR_band_files/Mar_2021_reduced/Mar_logfile_V.txt\",\\n                \"16Apr2021\": \"BVR_band_files/Apr_2021_reduced/Apr_logfile_V.txt\"\\n                }\\n}\\n'"
      ]
     },
     "execution_count": 2,
     "metadata": {},
     "output_type": "execute_result"
    }
   ],
   "source": [
    "logfiles_dict = {\n",
    "    \"B\": {\n",
    "                \"19Dec2020\": \"test_dirs_Dec/B-bess/logfile.ecsv\",\n",
    "                \"19Mar2021\": \"test_dirs_Mar/B-bess/logfile.ecsv\"\n",
    "              },\n",
    "    \"I\": {\n",
    "                \"19Dec2020\": \"test_dirs_Dec/I-bess/logfile.ecsv\",\n",
    "                \"19Mar2021\": \"test_dirs_Mar/I-bess/logfile.ecsv\",\n",
    "                \"16Apr2021\": \"test_dirs_Apr/I-bess/logfile.ecsv\"\n",
    "                },\n",
    "    \"V\": {\n",
    "                \"19Dec2020\": \"test_dirs_Dec/V-bess/logfile.ecsv\",\n",
    "                \"19Mar2021\": \"test_dirs_Mar/V-bess/logfile.ecsv\",\n",
    "                \"16Apr2021\": \"test_dirs_Apr/V-bess/logfile.ecsv\"\n",
    "                }\n",
    "}\n",
    "\n",
    "'''\n",
    "# If using logfile output from IRAF, uncomment this code and comment out above code.\n",
    "logfiles_dict = {\n",
    "    \"B\": {\n",
    "                \"19Dec2020\": \"BVR_band_files/Dec_2020_reduced/Dec_logfile_B.txt\",\n",
    "                \"19Mar2021\": \"BVR_band_files/Mar_2021_reduced/Mar_logfile_B.txt\"\n",
    "              },\n",
    "    \"I\": {\n",
    "                \"19Dec2020\": \"Dec 2020, Mar 2021, and Apr 2021 Dataset\\logfile_December_data_only.txt\",\n",
    "                \"19Mar2021\": \"Dec 2020, Mar 2021, and Apr 2021 Dataset\\logfile_March_data_only.txt\",\n",
    "                \"16Apr2021\": \"Dec 2020, Mar 2021, and Apr 2021 Dataset\\logfile_April_data_only.txt\"\n",
    "                },\n",
    "    \"V\": {\n",
    "                \"19Dec2020\": \"BVR_band_files/Dec_2020_reduced/Dec_logfile_V.txt\",\n",
    "                \"19Mar2021\": \"BVR_band_files/Mar_2021_reduced/Mar_logfile_V.txt\",\n",
    "                \"16Apr2021\": \"BVR_band_files/Apr_2021_reduced/Apr_logfile_V.txt\"\n",
    "                }\n",
    "}\n",
    "'''"
   ]
  },
  {
   "cell_type": "markdown",
   "metadata": {},
   "source": [
    "Dictionary that contains the absolute magnitudes of each of the comparison stars, separated by filter.\n",
    "##### Fill out this dictionary with the absolute magnitude of each comparison star for each filter in order to use this pipeline correctly."
   ]
  },
  {
   "cell_type": "code",
   "execution_count": 3,
   "metadata": {},
   "outputs": [],
   "source": [
    "abs_compstar_mags_dict = {\n",
    "    \"B\": [16.891, 16.383, 15.594, 16.106, 15.481], # Note that this is a placeholder list of absolute magnitudes for now - Prof Bailyn still needs to find the absolute magnitudes of the compstars in the B band\n",
    "    \"I\": [16.891, 16.383, 15.594, 16.106, 15.481],\n",
    "    \"V\": [16.891, 16.383, 15.594, 16.106, 15.481] # Note that this is a placeholder list of absolute magnitudes for now - Prof Bailyn still needs to find the absolute magnitudes of the compstars in the V band\n",
    "}"
   ]
  },
  {
   "cell_type": "markdown",
   "metadata": {},
   "source": [
    "Constructing a dictionary that contains all the raw magnitudes (A0620 and compstar mags combined) and a dictionary that contains all the peak counts values (A0620 and compstar peak counts combined), sorted by bandpass and night."
   ]
  },
  {
   "cell_type": "code",
   "execution_count": 4,
   "metadata": {
    "scrolled": true
   },
   "outputs": [],
   "source": [
    "all_raw_mags_dict = {}\n",
    "all_peak_counts_dict = {}\n",
    "for bandpass in list(logfiles_dict.keys()):\n",
    "    raw_mags_per_night = {}\n",
    "    peak_counts_per_night = {}\n",
    "    for night in logfiles_dict[bandpass]:\n",
    "        raw_mags_per_night[night] = np.loadtxt(logfiles_dict[bandpass][night], dtype=float, skiprows=22, usecols = 3, unpack=True)\n",
    "        peak_counts_per_night[night] = np.loadtxt(logfiles_dict[bandpass][night], dtype=float, skiprows=22, usecols = 7, unpack=True)\n",
    "        '''\n",
    "        # If using logfile output from IRAF, uncomment this code and comment out above code.\n",
    "        \n",
    "        raw_mags_per_night[night] = np.loadtxt(logfiles_dict[bandpass][night], dtype=float, usecols = 5, unpack=True)\n",
    "        peak_counts_per_night_list = list(np.loadtxt(logfiles_dict[bandpass][night], dtype=str, usecols = 8, unpack=True))\n",
    "        \n",
    "        # Post-processing of peak_counts: if the peak counts value is INDEF, keep the value as a string. Otherwise, convert the value to a float.\n",
    "        for i in range(len(peak_counts_per_night_list)):\n",
    "            if peak_counts_per_night_list[i] != \"INDEF\":\n",
    "                peak_counts_per_night_list[i] = float(peak_counts_per_night_list[i])\n",
    "        peak_counts_per_night[night] = peak_counts_per_night_list\n",
    "        '''\n",
    "    all_raw_mags_dict[bandpass] = raw_mags_per_night\n",
    "    all_peak_counts_dict[bandpass] = peak_counts_per_night"
   ]
  },
  {
   "cell_type": "markdown",
   "metadata": {},
   "source": [
    "Constructing dictionaries for the true A0620 mags and for each compstar mag, sorted by bandpass and night."
   ]
  },
  {
   "cell_type": "code",
   "execution_count": 5,
   "metadata": {},
   "outputs": [],
   "source": [
    "A0620_true_mags_dict = {}\n",
    "compstar1_mags_dict = {}\n",
    "compstar2_mags_dict = {}\n",
    "compstar3_mags_dict = {}\n",
    "compstar4_mags_dict = {}\n",
    "compstar5_mags_dict = {}\n",
    "for bandpass in list(all_raw_mags_dict.keys()):\n",
    "    A0620_true_mags_per_night = {}\n",
    "    compstar1_mag_per_night = {}\n",
    "    compstar2_mag_per_night = {}\n",
    "    compstar3_mag_per_night = {}\n",
    "    compstar4_mag_per_night = {}\n",
    "    compstar5_mag_per_night = {}\n",
    "    avg_true_abs_mag_compstars_per_filter = np.mean(abs_compstar_mags_dict[bandpass])\n",
    "    for night in all_raw_mags_dict[bandpass]:\n",
    "        raw_mags_per_night = all_raw_mags_dict[bandpass][night]\n",
    "        if len(raw_mags_per_night) % 6 != 0:\n",
    "            print(f\"There's an extra or missing radial profile plot data in {logfiles_dict[bandpass][night]} somewhere. Check your .txt file and examine which .fits file did you not plot all the data for.\")\n",
    "        else:\n",
    "            A0620_raw_mag_per_night = np.array(raw_mags_per_night[range(0,len(raw_mags_per_night),6)])\n",
    "            compstar1_mag_per_night[night] = np.array(raw_mags_per_night[range(1,len(raw_mags_per_night),6)])\n",
    "            compstar2_mag_per_night[night] = np.array(raw_mags_per_night[range(2,len(raw_mags_per_night),6)])\n",
    "            compstar3_mag_per_night[night] = np.array(raw_mags_per_night[range(3,len(raw_mags_per_night),6)])\n",
    "            compstar4_mag_per_night[night] = np.array(raw_mags_per_night[range(4,len(raw_mags_per_night),6)])\n",
    "            compstar5_mag_per_night[night] = np.array(raw_mags_per_night[range(5,len(raw_mags_per_night),6)])\n",
    "            avg_compstar_mag_per_night = np.round((compstar1_mag_per_night[night] + compstar2_mag_per_night[night] + compstar3_mag_per_night[night] + compstar4_mag_per_night[night] + compstar5_mag_per_night[night])/5, 3)\n",
    "            differential_mag_per_night = A0620_raw_mag_per_night - avg_compstar_mag_per_night\n",
    "            A0620_true_mag_per_night = np.round(differential_mag_per_night + avg_true_abs_mag_compstars_per_filter, 3)\n",
    "        A0620_true_mags_per_night[night] = A0620_true_mag_per_night\n",
    "    A0620_true_mags_dict[bandpass] = A0620_true_mags_per_night\n",
    "    compstar1_mags_dict[bandpass] = compstar1_mag_per_night\n",
    "    compstar2_mags_dict[bandpass] = compstar2_mag_per_night\n",
    "    compstar3_mags_dict[bandpass] = compstar3_mag_per_night\n",
    "    compstar4_mags_dict[bandpass] = compstar4_mag_per_night\n",
    "    compstar5_mags_dict[bandpass] = compstar5_mag_per_night"
   ]
  },
  {
   "cell_type": "markdown",
   "metadata": {},
   "source": [
    "Defining a function that will find the true magnitudes for each comparison star."
   ]
  },
  {
   "cell_type": "code",
   "execution_count": 6,
   "metadata": {},
   "outputs": [],
   "source": [
    "def find_true_compstar_mag(compstar_num, bandpass, night, compstar_dicts):\n",
    "    compstar_mags = compstar_dicts[compstar_num][bandpass][night]\n",
    "    true_compstar_mags = []\n",
    "    for i in range(len(compstar_mags)):\n",
    "        all_compstar_mags = []\n",
    "        for j in range(len(compstar_dicts)):\n",
    "            if j != compstar_num:\n",
    "                all_compstar_mags.append(compstar_dicts[j][bandpass][night][i])\n",
    "        avg_compstar_mag = round(np.mean(all_compstar_mags), 3)\n",
    "        #The magnitude is always at maximum two decimal places out, so the sum of these magnitudes will always be at maximum\n",
    "        #  two decimal places out. Therefore, when I divide the sum by 5, I should get a quotient that is at maximum three\n",
    "        #  decimal places out. This step is necessary because Python can do the math for floating point numbers kind of weird.\n",
    "        differential_mag = np.subtract(compstar_mags[i], avg_compstar_mag)\n",
    "        \n",
    "        all_true_compstar_mags = abs_compstar_mags_dict[bandpass].copy()\n",
    "        all_true_compstar_mags.pop(compstar_num)\n",
    "        avg_true_mag_compstars = np.mean(all_true_compstar_mags)\n",
    "        \n",
    "        true_compstar_mags.append(round(differential_mag + avg_true_mag_compstars, 3))\n",
    "        #Once again, Python treats addition of floating number points weirdly, so I use the round function again.\n",
    "    return np.array(true_compstar_mags)"
   ]
  },
  {
   "cell_type": "markdown",
   "metadata": {},
   "source": [
    "Constructing dictionaries for true magnitudes of each comparison star, sorted by bandpass and night. "
   ]
  },
  {
   "cell_type": "code",
   "execution_count": 7,
   "metadata": {},
   "outputs": [],
   "source": [
    "compstar_mags_dicts = [compstar1_mags_dict, compstar2_mags_dict, compstar3_mags_dict, compstar4_mags_dict, compstar5_mags_dict]\n",
    "compstar1_true_mags_dict = {}\n",
    "compstar2_true_mags_dict = {}\n",
    "compstar3_true_mags_dict = {}\n",
    "compstar4_true_mags_dict = {}\n",
    "compstar5_true_mags_dict = {}\n",
    "compstar_true_mags_dicts = [compstar1_true_mags_dict, compstar2_true_mags_dict, compstar3_true_mags_dict, compstar4_true_mags_dict, compstar5_true_mags_dict]\n",
    "\n",
    "for i in range(len(compstar_mags_dicts)):\n",
    "    for bandpass in list(compstar_mags_dicts[i].keys()):\n",
    "        compstar_true_mag_per_night = {}\n",
    "        for night in compstar1_mags_dict[bandpass]:\n",
    "            compstar_true_mag_per_night[night] = find_true_compstar_mag(i, bandpass, night, compstar_mags_dicts)\n",
    "        compstar_true_mags_dicts[i][bandpass] = compstar_true_mag_per_night"
   ]
  },
  {
   "cell_type": "markdown",
   "metadata": {},
   "source": [
    "Constructing dictionaries for A0620 peak counts values and for each compstar peak counts values, sorted by bandpass and night."
   ]
  },
  {
   "cell_type": "code",
   "execution_count": 8,
   "metadata": {},
   "outputs": [],
   "source": [
    "A0620_peaks_dict = {}\n",
    "compstar1_peaks_dict = {}\n",
    "compstar2_peaks_dict = {}\n",
    "compstar3_peaks_dict = {}\n",
    "compstar4_peaks_dict = {}\n",
    "compstar5_peaks_dict = {}\n",
    "for bandpass in list(all_peak_counts_dict.keys()):\n",
    "    A0620_peaks_per_night = {}\n",
    "    compstar1_peaks_per_night = {}\n",
    "    compstar2_peaks_per_night = {}\n",
    "    compstar3_peaks_per_night = {}\n",
    "    compstar4_peaks_per_night = {}\n",
    "    compstar5_peaks_per_night = {}\n",
    "    for night in all_peak_counts_dict[bandpass]:\n",
    "        peaks_per_night = all_peak_counts_dict[bandpass][night]\n",
    "        if len(peaks_per_night) % 6 != 0:\n",
    "            print(f\"There's an extra or missing radial profile plot data in {logfiles_dict[bandpass][night]} somewhere. Check your .txt file and examine which .fits file did you not plot all the data for.\")\n",
    "        else:\n",
    "            A0620_peaks_per_night[night] = np.array(peaks_per_night, dtype='object')[range(0,len(peaks_per_night),6)]\n",
    "            compstar1_peaks_per_night[night] = np.array(peaks_per_night, dtype='object')[range(1,len(peaks_per_night),6)]\n",
    "            compstar2_peaks_per_night[night] = np.array(peaks_per_night, dtype='object')[range(2,len(peaks_per_night),6)]\n",
    "            compstar3_peaks_per_night[night] = np.array(peaks_per_night, dtype='object')[range(3,len(peaks_per_night),6)]\n",
    "            compstar4_peaks_per_night[night] = np.array(peaks_per_night, dtype='object')[range(4,len(peaks_per_night),6)]\n",
    "            compstar5_peaks_per_night[night] = np.array(peaks_per_night, dtype='object')[range(5,len(peaks_per_night),6)]\n",
    "    A0620_peaks_dict[bandpass] = A0620_peaks_per_night\n",
    "    compstar1_peaks_dict[bandpass] = compstar1_peaks_per_night\n",
    "    compstar2_peaks_dict[bandpass] = compstar2_peaks_per_night\n",
    "    compstar3_peaks_dict[bandpass] = compstar3_peaks_per_night\n",
    "    compstar4_peaks_dict[bandpass] = compstar4_peaks_per_night\n",
    "    compstar5_peaks_dict[bandpass] = compstar5_peaks_per_night"
   ]
  },
  {
   "cell_type": "markdown",
   "metadata": {},
   "source": [
    "Constructing dictionaries that contains the Modified Julian Date and exposure time of each fits file organized by bandpass and night. <b>(Comment out this code if using IRAF output instead of pipeline output).</b>"
   ]
  },
  {
   "cell_type": "code",
   "execution_count": 9,
   "metadata": {},
   "outputs": [],
   "source": [
    "MJD_dict = {}\n",
    "exptime_dict = {}\n",
    "\n",
    "for bandpass in list(logfiles_dict.keys()):\n",
    "    MJDs_per_night = {}\n",
    "    exptimes_per_night = {}\n",
    "    for night in logfiles_dict[bandpass]:\n",
    "        MJDs = np.loadtxt(logfiles_dict[bandpass][night], dtype=float, skiprows=22, usecols = 9, unpack=True)\n",
    "        exptimes = np.loadtxt(logfiles_dict[bandpass][night], dtype=float, skiprows=22, usecols = 10, unpack=True)\n",
    "        IDs = np.loadtxt(logfiles_dict[bandpass][night], dtype=int, skiprows=22, usecols = 6, unpack=True)\n",
    "        num_objects = max(IDs)\n",
    "        MJD_list = []\n",
    "        exptime_list = []\n",
    "        [MJD_list.append(MJDs[i]) for i in range(0,len(MJDs),num_objects)]\n",
    "        [exptime_list.append(exptimes[i]) for i in range(0,len(exptimes),num_objects)]\n",
    "        MJDs_per_night[night] = MJD_list\n",
    "        exptimes_per_night[night] = exptime_list\n",
    "    MJD_dict[bandpass] = MJDs_per_night\n",
    "    exptime_dict[bandpass] = exptimes_per_night"
   ]
  },
  {
   "cell_type": "markdown",
   "metadata": {},
   "source": [
    "## Importing Filenames, MJDs, and Exposure Times from Directories with Processed Fits Files (and then Calculating Modified Times) - only necessary if using IRAF output"
   ]
  },
  {
   "cell_type": "markdown",
   "metadata": {},
   "source": [
    "Fits file dictionary that contains the PATHs of all the directories containing the processed fits files, separated by filter and night.\n",
    "##### If using IRAF output, fill out this dictionary with each filter, each night, and each fits file directory PATH in order to use this pipeline properly."
   ]
  },
  {
   "cell_type": "code",
   "execution_count": 10,
   "metadata": {},
   "outputs": [
    {
     "data": {
      "text/plain": [
       "'\\n# If using logfile output from IRAF, uncomment this code and comment out above code.\\nfits_dict = {\\n    \"B\": {\\n            \"19Dec2020\": \"test_dirs_Dec/B-bess\",\\n            \"19Mar2021\": \"test_dirs_Mar/B-bess\"\\n            },\\n    \"I\": {\\n            \"19Dec2020\": \"test_dirs_Dec/I-bess\",\\n            \"19Mar2021\": \"test_dirs_Mar/I-bess\",\\n            \"16Apr2021\": \"test_dirs_Apr/I-bess\"\\n            },\\n    \"V\": {\\n            \"19Dec2020\": \"test_dirs_Dec/V-bess\",\\n            \"19Mar2021\": \"test_dirs_Mar/V-bess\",\\n            \"16Apr2021\": \"test_dirs_Apr/V-bess\"\\n            }\\n}\\n'"
      ]
     },
     "execution_count": 10,
     "metadata": {},
     "output_type": "execute_result"
    }
   ],
   "source": [
    "'''\n",
    "# If using logfile output from IRAF, uncomment this code and comment out above code.\n",
    "fits_dict = {\n",
    "    \"B\": {\n",
    "            \"19Dec2020\": \"test_dirs_Dec/B-bess\",\n",
    "            \"19Mar2021\": \"test_dirs_Mar/B-bess\"\n",
    "            },\n",
    "    \"I\": {\n",
    "            \"19Dec2020\": \"test_dirs_Dec/I-bess\",\n",
    "            \"19Mar2021\": \"test_dirs_Mar/I-bess\",\n",
    "            \"16Apr2021\": \"test_dirs_Apr/I-bess\"\n",
    "            },\n",
    "    \"V\": {\n",
    "            \"19Dec2020\": \"test_dirs_Dec/V-bess\",\n",
    "            \"19Mar2021\": \"test_dirs_Mar/V-bess\",\n",
    "            \"16Apr2021\": \"test_dirs_Apr/V-bess\"\n",
    "            }\n",
    "}\n",
    "'''"
   ]
  },
  {
   "cell_type": "markdown",
   "metadata": {},
   "source": [
    "Constructing dictionaries that contains the Modified Julian Date and exposure time of each fits file organized by filter, night, and filename."
   ]
  },
  {
   "cell_type": "code",
   "execution_count": 11,
   "metadata": {},
   "outputs": [
    {
     "data": {
      "text/plain": [
       "'\\n# If using logfile output from IRAF, uncomment this code and comment out above code.\\nMJD_dict = {}\\nexptime_dict = {}\\nfor bandpass in list(fits_dict.keys()):\\n    MJD_per_bandpass_data = {}\\n    exptime_per_bandpass_data = {}\\n    for night in fits_dict[bandpass]:\\n        MJD_per_night_data = {}\\n        exptime_per_night_data = {}\\n        fits_filenames = os.listdir(fits_dict[bandpass][night])\\n        for filename in fits_filenames:\\n            with fits.open(f\"{fits_dict[bandpass][night]}/{filename}\") as hdu:\\n                UTCSTART = hdu[0].header[\"UTCSTART\"]\\n                MJD = Time(UTCSTART, format=\"isot\", scale=\"utc\").mjd\\n                exptime = hdu[0].header[\"EXPTIME\"]\\n            MJD_per_night_data[filename] = MJD\\n            exptime_per_night_data[filename] = exptime\\n        MJD_per_bandpass_data[night] = MJD_per_night_data\\n        exptime_per_bandpass_data[night] = exptime_per_night_data\\n    MJD_dict[bandpass] = MJD_per_bandpass_data\\n    exptime_dict[bandpass] = exptime_per_bandpass_data\\n'"
      ]
     },
     "execution_count": 11,
     "metadata": {},
     "output_type": "execute_result"
    }
   ],
   "source": [
    "'''\n",
    "# If using logfile output from IRAF, uncomment this code and comment out above code.\n",
    "MJD_dict = {}\n",
    "exptime_dict = {}\n",
    "for bandpass in list(fits_dict.keys()):\n",
    "    MJD_per_bandpass_data = {}\n",
    "    exptime_per_bandpass_data = {}\n",
    "    for night in fits_dict[bandpass]:\n",
    "        MJD_per_night_data = {}\n",
    "        exptime_per_night_data = {}\n",
    "        fits_filenames = os.listdir(fits_dict[bandpass][night])\n",
    "        for filename in fits_filenames:\n",
    "            with fits.open(f\"{fits_dict[bandpass][night]}/{filename}\") as hdu:\n",
    "                UTCSTART = hdu[0].header[\"UTCSTART\"]\n",
    "                MJD = Time(UTCSTART, format=\"isot\", scale=\"utc\").mjd\n",
    "                exptime = hdu[0].header[\"EXPTIME\"]\n",
    "            MJD_per_night_data[filename] = MJD\n",
    "            exptime_per_night_data[filename] = exptime\n",
    "        MJD_per_bandpass_data[night] = MJD_per_night_data\n",
    "        exptime_per_bandpass_data[night] = exptime_per_night_data\n",
    "    MJD_dict[bandpass] = MJD_per_bandpass_data\n",
    "    exptime_dict[bandpass] = exptime_per_bandpass_data\n",
    "'''"
   ]
  },
  {
   "cell_type": "markdown",
   "metadata": {},
   "source": [
    "## Manually Entering in Data to the Dictionaries"
   ]
  },
  {
   "cell_type": "markdown",
   "metadata": {},
   "source": [
    "##### If you have data that doesn't follow the formatting of the automatic processors for entering in data to the magnitudes, peak counts values, MJD, and exposure time dictionaries, then use the below cell to code in the data entry of your data to these existing dictionaries."
   ]
  },
  {
   "cell_type": "code",
   "execution_count": 12,
   "metadata": {},
   "outputs": [],
   "source": [
    "# Example code: entering in data for observations of A0620-00 from 2001 to 2019, spaced a night apart.\n",
    "#   This data only has the true A0620-00 mags and the JD of these observations, formatted in a .txt file,\n",
    "#   so we can only add this data to A0620_true_mags_dict and MJD_dict.\n",
    "\n",
    "def convert_JD_to_MJD(JDs):\n",
    "    return JDs - 2400000.5\n",
    "\n",
    "PATH = \"Historical Dataset (2001 to 2019)/A0620_SMARTS_I.txt\"\n",
    "historical_mags, historical_JDs = np.loadtxt(PATH, usecols=(1,2), skiprows=1, unpack=True)\n",
    "A0620_true_mags_dict[\"I\"][\"2001 to 2019\"] = historical_mags\n",
    "historical_MJDs = convert_JD_to_MJD(historical_JDs)\n",
    "'''\n",
    "# If using logfile output from IRAF, uncomment this code and comment out above code.\n",
    "for i in range(len(historical_JDs)):\n",
    "    historical_MJDs[f\"A0620_SMARTS_I.txt line {i}\"] = convert_JD_to_MJD(historical_JDs[i])\n",
    "'''\n",
    "MJD_dict[\"I\"][\"2001 to 2019\"] = historical_MJDs"
   ]
  },
  {
   "cell_type": "markdown",
   "metadata": {},
   "source": [
    "## Filling Out Phases Dictionaries"
   ]
  },
  {
   "cell_type": "markdown",
   "metadata": {},
   "source": [
    "Calculate the length of orbit (in units of days) for a specific night for an object whose orbital period changes over time.\n",
    "##### If the object's orbital period changes over time, edit the below cell in order to determine the orbital period of your object at a specific date."
   ]
  },
  {
   "cell_type": "code",
   "execution_count": 13,
   "metadata": {},
   "outputs": [
    {
     "name": "stdout",
     "output_type": "stream",
     "text": [
      "The orbital period of the object on 2023/1/16 is 0.32301388 days.\n"
     ]
    }
   ],
   "source": [
    "# Input specified date, reference date, orbital period for the reference date, and the change in orbital period per day\n",
    "date = '2023/1/16' # Jan 16 2023\n",
    "date_ref = '2021/4/16' # Apr 16 2021\n",
    "orbital_period_ref = 0.32301389 # in units of days\n",
    "rate = -1.9e-11 # in units of days/days\n",
    "\n",
    "# Difference between datetime in days\n",
    "d = datetime.strptime(date, \"%Y/%m/%d\")\n",
    "d_ref = datetime.strptime(date_ref, \"%Y/%m/%d\")\n",
    "delta = d - d_ref\n",
    "delta = float(delta.days)\n",
    "\n",
    "# Calculating the orbital period for the specified night\n",
    "orbital_period = '%.8f'%(orbital_period_ref + delta*rate)\n",
    "print(f\"The orbital period of the object on {date} is {orbital_period} days.\")"
   ]
  },
  {
   "cell_type": "markdown",
   "metadata": {},
   "source": [
    "Dictionary that contains the length of orbit (in units of days) for each night.\n",
    "##### Fill out this dictionary with the orbital period of the object on each night in order to use this pipeline properly."
   ]
  },
  {
   "cell_type": "code",
   "execution_count": 14,
   "metadata": {},
   "outputs": [],
   "source": [
    "orbital_period_dict = {\n",
    "    \"2001 to 2019\": 0.32301398,\n",
    "    \"19Dec2020\": 0.32301389,\n",
    "    \"19Mar2021\": 0.32301389,\n",
    "    \"16Apr2021\": 0.32301389\n",
    "                             }\n",
    "# units of days"
   ]
  },
  {
   "cell_type": "markdown",
   "metadata": {},
   "source": [
    "Dictionary that contains the orbital phase of each observation, sorted by bandpass and night."
   ]
  },
  {
   "cell_type": "code",
   "execution_count": 15,
   "metadata": {},
   "outputs": [],
   "source": [
    "orbital_phases_dict = {}\n",
    "for bandpass in list(MJD_dict.keys()):\n",
    "    orbital_phase_per_bandpass = {}\n",
    "    for night in list(MJD_dict[bandpass].keys()):\n",
    "        orbital_phase_per_night = []\n",
    "        for MJD in list(MJD_dict[bandpass][night]):\n",
    "            orbital_phase = (MJD/orbital_period_dict[night]) - (MJD/orbital_period_dict[night]).astype(int)\n",
    "            orbital_phase_per_night.append(orbital_phase)\n",
    "        orbital_phase_per_bandpass[night] = orbital_phase_per_night\n",
    "    orbital_phases_dict[bandpass] = orbital_phase_per_bandpass"
   ]
  },
  {
   "cell_type": "markdown",
   "metadata": {},
   "source": [
    "## Subtracting Ellipsoidal Variation from the Light Curves"
   ]
  },
  {
   "cell_type": "markdown",
   "metadata": {},
   "source": [
    "Defining the functions that will remove the ellipsoidal variation from any light curve, given a reference light curve (the reference light curve can be the same light curve as the light curve you are trying to subtract ellipsoidal variation off of)."
   ]
  },
  {
   "cell_type": "code",
   "execution_count": 16,
   "metadata": {},
   "outputs": [],
   "source": [
    "def compute_optimal_bin_number(dataset):\n",
    "    '''Computes the optimal number of bins to use for\n",
    "       a dataset using the Freedman-Diaconis rule.'''\n",
    "    IQR = scipy.stats.iqr(dataset)\n",
    "    n = len(dataset)\n",
    "    h = 2 * IQR * (n**(-1/3))\n",
    "    num_bins = (max(dataset) - min(dataset)) / h\n",
    "    return math.floor(num_bins)"
   ]
  },
  {
   "cell_type": "code",
   "execution_count": 17,
   "metadata": {},
   "outputs": [],
   "source": [
    "def remove_ellipsoidal_contribution(light_curve_minuend, light_curve_subtrahend, plot=False):\n",
    "    '''Removes the ellipsoidal component for all the light curves in light_curve_minuend\n",
    "        (which originates from the companion star) by using a binning method to find the ellipsoidal curve, \n",
    "        and then subtracting each point the light curves in light_curve_minuend by the ellipsoidal curve.\n",
    "       Returns a list of the new magnitudes with the ellipsoidal contribution removed\n",
    "        (i.e. the accretion flow light curve(s)).'''\n",
    "    # Calculates the ellipsoidal curve to subtract off using the subtrahend light curve.\n",
    "    subtrahend_bandpass, subtrahend_night = light_curve_subtrahend\n",
    "    subtrahend_mags = A0620_true_mags_dict[subtrahend_bandpass][subtrahend_night]\n",
    "    subtrahend_phases = orbital_phases_dict[subtrahend_bandpass][subtrahend_night]\n",
    "    num_bins = compute_optimal_bin_number(subtrahend_mags)\n",
    "    bins = np.linspace(min(subtrahend_phases),max(subtrahend_phases),num_bins)\n",
    "    mean_binned_mags = [] # A list of the mean magnitude in each bin\n",
    "    for i in range(len(bins)-1):\n",
    "        phase_indices = np.where((subtrahend_phases >= bins[i]) & (subtrahend_phases < bins[i+1]+(10**-15)))[0]\n",
    "        subtrahend_mags_at_that_bin = subtrahend_mags[phase_indices]\n",
    "        mean_binned_mags.append(np.nanmean(subtrahend_mags_at_that_bin))\n",
    "    \n",
    "    # Subtracts off the ellipsoidal variation from the minuend light curves\n",
    "    if np.array(light_curve_minuend).ndim == 1:\n",
    "        minuend_bandpass, minuend_night = light_curve_minuend\n",
    "        minuend_mags = A0620_true_mags_dict[minuend_bandpass][minuend_night]\n",
    "        minuend_phases = orbital_phases_dict[minuend_bandpass][minuend_night]\n",
    "        accretion_flow_mags = np.zeros(len(minuend_mags))\n",
    "        for i in range(len(bins)-1):\n",
    "            phase_indices = np.where((minuend_phases >= bins[i]) & (minuend_phases < bins[i+1]+(10**-15)))[0]\n",
    "            accretion_flow_mags[phase_indices] = minuend_mags[phase_indices] - mean_binned_mags[i]\n",
    "            \n",
    "        if plot:\n",
    "            duplicated_minuend_phases = np.append(minuend_phases, [x + 1 for x in minuend_phases])\n",
    "            duplicated_minuend_mags = np.append(minuend_mags, minuend_mags)\n",
    "            duplicated_accretion_flow_mags = np.append(accretion_flow_mags, accretion_flow_mags)\n",
    "            duplicated_bins = np.append(bins[:-1], bins[:-1])\n",
    "            duplicated_mean_binned_mags = np.append(mean_binned_mags, mean_binned_mags)\n",
    "            fig = plt.figure(figsize=(15,10))\n",
    "            minuend_ax = fig.add_subplot(2, 1, 1)\n",
    "            minuend_ax.plot(duplicated_minuend_phases, duplicated_minuend_mags, 'bo', label=\"Minuend Light Curve\")\n",
    "            minuend_ax.plot(duplicated_bins, duplicated_mean_binned_mags, 'ro', label=\"Ellipsoidal Light Curve Points\")\n",
    "            minuend_ax.set_xlim(0.0, 2.0)\n",
    "            minuend_ax.set_xlabel(\"Minuend Orbital Phase\")\n",
    "            minuend_ax.set_ylabel(\"Absolute Magnitude\")\n",
    "            minuend_ax.set_title(f\"{minuend_bandpass} Band Light Curve Before Ellipsoidal Variation Subtraction\")\n",
    "            minuend_ax.legend()\n",
    "            accretion_flow_ax = fig.add_subplot(2, 1, 2)\n",
    "            accretion_flow_ax.plot(duplicated_minuend_phases, duplicated_accretion_flow_mags, 'go', label=\"Accretion Flow Light Curve\")\n",
    "            accretion_flow_ax.set_xlim(0.0, 2.0)\n",
    "            accretion_flow_ax.set_xlabel(\"Minuend Orbital Phase\")\n",
    "            accretion_flow_ax.set_ylabel(\"Relative Magnitude\")\n",
    "            accretion_flow_ax.set_title(f\"{minuend_bandpass} Band Light Curve After Ellipsoidal Variation Subtraction\")\n",
    "            accretion_flow_ax.legend()\n",
    "        accretion_flow_mags_dict[minuend_bandpass] = {minuend_night: accretion_flow_mags}\n",
    "        \n",
    "    if np.array(light_curve_minuend).ndim == 2:\n",
    "        if plot: fig = plt.figure(figsize=(15,10*len(light_curve_minuend)))\n",
    "        for i in range(len(light_curve_minuend)):\n",
    "            minuend_bandpass, minuend_night = light_curve_minuend[i]\n",
    "            minuend_mags = A0620_true_mags_dict[minuend_bandpass][minuend_night]\n",
    "            minuend_phases = orbital_phases_dict[minuend_bandpass][minuend_night]\n",
    "            accretion_flow_mags = np.zeros(len(minuend_phases))\n",
    "            for j in range(len(bins)-1):\n",
    "                phase_indices = np.where((minuend_phases >= bins[j]) & (minuend_phases < bins[j+1]+(10**-15)))[0]\n",
    "                accretion_flow_mags[phase_indices] = minuend_mags[phase_indices] - mean_binned_mags[j]\n",
    "            if minuend_bandpass in accretion_flow_mags_dict.keys():\n",
    "                accretion_flow_mags_dict[minuend_bandpass][minuend_night] = accretion_flow_mags\n",
    "            else:\n",
    "                accretion_flow_mags_dict[minuend_bandpass] = {minuend_night : accretion_flow_mags}\n",
    "            if plot:\n",
    "                duplicated_minuend_phases = np.append(minuend_phases, [x + 1 for x in minuend_phases])\n",
    "                duplicated_minuend_mags = np.append(minuend_mags, minuend_mags)\n",
    "                duplicated_accretion_flow_mags = np.append(accretion_flow_mags, accretion_flow_mags)\n",
    "                duplicated_bins = np.append(bins[:-1], bins[:-1]+1)\n",
    "                duplicated_mean_binned_mags = np.append(mean_binned_mags, mean_binned_mags)\n",
    "                minuend_ax = fig.add_subplot(len(light_curve_minuend)*2, 1, i*2 + 1)\n",
    "                minuend_ax.plot(duplicated_minuend_phases, duplicated_minuend_mags, 'bo', label=\"Minuend Light Curve\")\n",
    "                minuend_ax.plot(duplicated_bins, duplicated_mean_binned_mags, 'ro', label=\"Ellipsoidal Light Curve Points\")\n",
    "                minuend_ax.set_xlim(0.0, 2.0)\n",
    "                minuend_ax.set_xlabel(\"Minuend Orbital Phase\")\n",
    "                minuend_ax.set_ylabel(\"Absolute Magnitude\")\n",
    "                minuend_ax.set_title(f\"{minuend_bandpass} Band Light Curve on {minuend_night} Before Ellipsoidal Variation Subtraction\")\n",
    "                minuend_ax.legend()\n",
    "                accretion_flow_ax = fig.add_subplot(len(light_curve_minuend)*2, 1, i*2 + 2)\n",
    "                accretion_flow_ax.plot(duplicated_minuend_phases, duplicated_accretion_flow_mags, 'go', label=\"Accretion Flow Light Curve\")\n",
    "                accretion_flow_ax.set_xlim(0.0, 2.0)\n",
    "                accretion_flow_ax.set_xlabel(\"Minuend Orbital Phase\")\n",
    "                accretion_flow_ax.set_ylabel(\"Relative Magnitude\")\n",
    "                accretion_flow_ax.set_title(f\"{minuend_bandpass} Band Light Curve on {minuend_night} After Ellipsoidal Variation Subtraction\")\n",
    "                accretion_flow_ax.legend()\n",
    "        if plot: plt.show()"
   ]
  },
  {
   "cell_type": "markdown",
   "metadata": {},
   "source": [
    "The below block of code will automatically fill in a dictionary containing the accretion flow magnitudes of each light curve (sorted by bandpass and night) <b>accretion_flow_mags_dict</b> for the given minuend light curves that you input into the remove_ellipsoidal_contribution function.\n",
    "<br>To use the <b>remove_ellipsoidal_contribution</b> function, you need to pass in the following parameters:\n",
    "<ul>\n",
    "    <li><b>minuend_light_curves</b>: A list containing the light curves you want to subtract ellipsoidal variation off of. The list must be formatted as [bandpass, night], and the bandpass and night must be able to be found within both the A0620_true_mags_dict and the MJD_dict. This parameter can either be a 1D array containing only the bandpass and night for one light curve, or it can be a 2D array containing a list of the bandpasses and nights corresponding to the light curves you want to subtract ellipsoidal variation off of.</li>\n",
    "    <li><b>subtrahend_light_curve</b>: A list containing the bandpass and night for the reference light curve that you want to use as the subtractor in the removing ellipsoidal variation procedure. The bandpass and night must be able to be found within both the A0620_true_mags_dict and the MJD_dict. This parameter can only be a 1D array; it cannot be formatted as a 2D array.</li>\n",
    "    <li><b>plot</b>: A boolean for whether you want to plot the light curves before and after the ellipsoidal variation subtraction procedure. Default is False.</li>\n",
    "</ul>\n",
    "For reference, the minuend, subtrahend, and difference are parts of a subtraction problem. For example, in the subtraction problem, 7 – 3 = 4, the number 7 is the minuend, the number 3 is the subtrahend and the number 4 is the difference.\n",
    "<br><b><i>Fill out the minuend_light_curves and subtrahend_light_curves dictionaries according to which nights you want to be the subtracted and which night(s) you want to be the subtratees.</i></b>"
   ]
  },
  {
   "cell_type": "code",
   "execution_count": 18,
   "metadata": {
    "scrolled": false
   },
   "outputs": [],
   "source": [
    "accretion_flow_mags_dict = {}\n",
    "\n",
    "minuend_light_curves = [[\"B\", \"19Dec2020\"],\n",
    "                        [\"V\", \"19Dec2020\"],\n",
    "                        [\"I\", \"19Dec2020\"],\n",
    "                        [\"I\", \"19Mar2021\"],\n",
    "                        [\"I\", \"16Apr2021\"],\n",
    "                        [\"I\", \"2001 to 2019\"]]\n",
    "subtrahend_light_curve = [\"I\", \"2001 to 2019\"]\n",
    "remove_ellipsoidal_contribution(minuend_light_curves, subtrahend_light_curve, plot=False)"
   ]
  },
  {
   "cell_type": "markdown",
   "metadata": {},
   "source": [
    "## Finding Comparison Stars to Use in Calculating Error Assigning Equation for Each Data Point"
   ]
  },
  {
   "cell_type": "markdown",
   "metadata": {},
   "source": [
    "The below function prints the difference between the pairwise mean magnitude of A0620-00 and the mean magnitudes of the comparison stars for a given bandpass. The comparison stars whose mean magnitude is closest to the mean magnitude of A0620-00 are the comparison stars that you should use when determining the best-fit line for the error assigning equation for A0620-00's peak counts values in that bandpass. (Use your judgement when determining how \"close\" a comparison star's brightness to A0620-00 should be in order to include in the calculation of the error assigning equation.)\n",
    "<br>Parameters:\n",
    "<ul>\n",
    "    <li><b>bandpass</b>: A string containing the bandpass for which you want to calculate the pairwise difference in mean magnitudes between A0620-00 and the comparison stars. Must be a key found within the A0620_true_mags_dict and all the compstar_mag dictionaries.</li>\n",
    "    <li><b>excluded_nights</b>: A list of the nights that you want to exclude from the calculation. Use this if you want to exclude a certain night from the calculation, either for quality control reasons or because the night cannot be found within all the compstar_mag dictionaries. The night must be able to be found within the A0620_true_mags_dict. Default is an empty list.</li>\n",
    "</ul>"
   ]
  },
  {
   "cell_type": "code",
   "execution_count": 19,
   "metadata": {},
   "outputs": [],
   "source": [
    "def difference_between_means_of_mags(bandpass, excluded_nights = []):\n",
    "    '''Prints the pairwise difference between the mean magnitude of A0620-00 and the mean magnitudes\n",
    "        of all the comparison stars. Excludes the data in the nights in the excluded_nights parameter \n",
    "        from the calculation of these mean magnitudes.'''\n",
    "    A0620_mags = np.array([])\n",
    "    compstar1_mags = np.array([])\n",
    "    compstar2_mags = np.array([])\n",
    "    compstar3_mags = np.array([])\n",
    "    compstar4_mags = np.array([])\n",
    "    compstar5_mags = np.array([])\n",
    "    for night in list(A0620_true_mags_dict[bandpass].keys()):\n",
    "        if not night in excluded_nights:\n",
    "            A0620_mags = np.concatenate((A0620_mags, A0620_true_mags_dict[bandpass][night]))\n",
    "            compstar1_mags = np.concatenate((compstar1_mags, compstar1_mags_dict[bandpass][night]))\n",
    "            compstar2_mags = np.concatenate((compstar2_mags, compstar2_mags_dict[bandpass][night]))\n",
    "            compstar3_mags = np.concatenate((compstar3_mags, compstar3_mags_dict[bandpass][night]))\n",
    "            compstar4_mags = np.concatenate((compstar4_mags, compstar4_mags_dict[bandpass][night]))\n",
    "            compstar5_mags = np.concatenate((compstar5_mags, compstar5_mags_dict[bandpass][night]))\n",
    "    print(f\"Difference between mean of A0620-00 magnitude and mean of compstar1 magnitude: {abs(np.mean(A0620_mags) - np.mean(compstar1_mags))}\")\n",
    "    print(f\"Difference between mean of A0620-00 magnitude and mean of compstar2 magnitude: {abs(np.mean(A0620_mags) - np.mean(compstar2_mags))}\")\n",
    "    print(f\"Difference between mean of A0620-00 magnitude and mean of compstar3 magnitude: {abs(np.mean(A0620_mags) - np.mean(compstar3_mags))}\")\n",
    "    print(f\"Difference between mean of A0620-00 magnitude and mean of compstar4 magnitude: {abs(np.mean(A0620_mags) - np.mean(compstar4_mags))}\")\n",
    "    print(f\"Difference between mean of A0620-00 magnitude and mean of compstar5 magnitude: {abs(np.mean(A0620_mags) - np.mean(compstar5_mags))}\")"
   ]
  },
  {
   "cell_type": "code",
   "execution_count": 20,
   "metadata": {},
   "outputs": [
    {
     "name": "stdout",
     "output_type": "stream",
     "text": [
      "Difference between mean of A0620-00 magnitude and mean of compstar1 magnitude: 0.8301068785702874\n",
      "Difference between mean of A0620-00 magnitude and mean of compstar2 magnitude: 1.570602395863041\n",
      "Difference between mean of A0620-00 magnitude and mean of compstar3 magnitude: 2.965639265435046\n",
      "Difference between mean of A0620-00 magnitude and mean of compstar4 magnitude: 1.541209243967561\n",
      "Difference between mean of A0620-00 magnitude and mean of compstar5 magnitude: 2.399160498655071\n"
     ]
    }
   ],
   "source": [
    "difference_between_means_of_mags(\"B\")"
   ]
  },
  {
   "cell_type": "markdown",
   "metadata": {},
   "source": [
    "<i>Given that compstar1, compstar2, and compstar4 have the closest mean magnitude to that of A0620-00, those three comparison stars should be used when calculating the error assigning equation for the B bandpass.</i>"
   ]
  },
  {
   "cell_type": "code",
   "execution_count": 21,
   "metadata": {},
   "outputs": [
    {
     "name": "stdout",
     "output_type": "stream",
     "text": [
      "Difference between mean of A0620-00 magnitude and mean of compstar1 magnitude: 1.2491650523055444\n",
      "Difference between mean of A0620-00 magnitude and mean of compstar2 magnitude: 1.8831641463842406\n",
      "Difference between mean of A0620-00 magnitude and mean of compstar3 magnitude: 3.0213901327538544\n",
      "Difference between mean of A0620-00 magnitude and mean of compstar4 magnitude: 1.9575402556272987\n",
      "Difference between mean of A0620-00 magnitude and mean of compstar5 magnitude: 2.75907770903628\n"
     ]
    }
   ],
   "source": [
    "difference_between_means_of_mags(\"V\")"
   ]
  },
  {
   "cell_type": "markdown",
   "metadata": {},
   "source": [
    "<i>Given that compstar1, compstar2, and compstar4 have the closest mean magnitude to that of A0620-00, those three comparison stars should be used when calculating the error assigning equation for the V bandpass.</i>"
   ]
  },
  {
   "cell_type": "code",
   "execution_count": 22,
   "metadata": {},
   "outputs": [
    {
     "name": "stdout",
     "output_type": "stream",
     "text": [
      "Difference between mean of A0620-00 magnitude and mean of compstar1 magnitude: 1.0563622932872008\n",
      "Difference between mean of A0620-00 magnitude and mean of compstar2 magnitude: 1.5615035275216336\n",
      "Difference between mean of A0620-00 magnitude and mean of compstar3 magnitude: 2.331978036043944\n",
      "Difference between mean of A0620-00 magnitude and mean of compstar4 magnitude: 1.8313710627179045\n",
      "Difference between mean of A0620-00 magnitude and mean of compstar5 magnitude: 2.446172883175482\n"
     ]
    }
   ],
   "source": [
    "difference_between_means_of_mags(\"I\", excluded_nights = [\"2001 to 2019\"])"
   ]
  },
  {
   "cell_type": "markdown",
   "metadata": {},
   "source": [
    "<i>Given that compstar1, compstar2, and compstar4 have the closest mean magnitude to that of A0620-00, those three comparison stars should be used when calculating the error assigning equation for the I bandpass.</i>"
   ]
  },
  {
   "cell_type": "markdown",
   "metadata": {},
   "source": [
    "## Calculating the Error Assigning Equation"
   ]
  },
  {
   "cell_type": "markdown",
   "metadata": {},
   "source": [
    "The below function fits a linear relationship between the peak counts and the measurement error for a specific bandpass. This is necessary because each frame has a different amount of error, and each bandpass has a difference relationship between peak counts and measurement error. We will use this frame-by-frame measurement error as our definition of error for our brightness values of A0620-00.\n",
    "<br>Parameters:\n",
    "<ul>\n",
    "    <li><b>bandpass</b>: A string containing the bandpass for which you want to calculate the fit between peak counts and measurement error. Must be a key found within the A0620_peaks_dict and all the compstar_mag dictionaries.</li>\n",
    "    <li><b>compstars_to_use</b>: A list containing the IDs of the comparison stars you want to use when calculating the fit between peak counts and measurement error. For example, if you want to use comparison stars 1, 2, and 4 for calculating the fit, input [1,2,4] for this parameter.\n",
    "    <li><b>excluded_nights</b>: A list of the nights that you want to exclude from the calculation. Use this if you want to exclude a certain night from the calculation, either for quality control reasons or because the night cannot be found within all the compstar_mag dictionaries. The night must be able to be found within the A0620_true_mags_dict. Default is an empty list.</li>\n",
    "    <li><b>excluded_peaks_ranges</b>: A nx2 list of the peak ranges you want to exclude when calculating the fit. Each row in the list contains [lower_lim, upper_lim] as the peak range to exclude. Useful if one particular range of peak counts gives a measurement error that is an outlier and messes with the linear fit. Default is an empty list.\n",
    "    <li><b>include_residuals</b>: A boolean for whether you want to display a graph of the fit residuals or not. Default is False.\n",
    "</ul>"
   ]
  },
  {
   "cell_type": "code",
   "execution_count": 27,
   "metadata": {},
   "outputs": [],
   "source": [
    "def plt_error_vs_peak_counts_value(bandpass, compstars_to_use, excluded_nights = [], excluded_peaks_ranges = [], include_residuals = False):\n",
    "    '''Plots a graph of measurement error versus peak counts value for a given bandpass and\n",
    "        returns the coefficients of the linear fit in descending order.\n",
    "        Excludes the data in the nights in the excluded_nights parameter from the calculation\n",
    "        of the error assigning equation.'''    \n",
    "    # Flattening all the peak counts values into a 1D array (for A0620_peaks) or a 2D array containing each of the compstars' magnitudes (for compstars_mags)\n",
    "    A0620_peaks = []\n",
    "    all_compstars_mags = []\n",
    "    for night in list(A0620_peaks_dict[bandpass].keys()):\n",
    "        if not night in excluded_nights:\n",
    "            A0620_peaks = np.concatenate((A0620_peaks, A0620_peaks_dict[bandpass][night]))\n",
    "    for compstar in compstars_to_use:\n",
    "        single_compstar_mags = []\n",
    "        for night in list(A0620_peaks_dict[bandpass].keys()):\n",
    "            if not night in excluded_nights:\n",
    "                single_compstar_mags = np.concatenate((single_compstar_mags, compstar_true_mags_dicts[compstar-1][bandpass][night])) # We need to index by compstar-1 because Python lists use zero-based indexing but our labeling of compstars use one-based indexing\n",
    "        all_compstars_mags.append(single_compstar_mags)\n",
    "    for excluded_peaks_range in excluded_peaks_ranges:\n",
    "        lower_lim, upper_lim = excluded_peaks_range\n",
    "        excluded_indices = np.where((A0620_peaks >= lower_lim) & (A0620_peaks <= upper_lim))[0]\n",
    "        A0620_peaks = np.delete(A0620_peaks, excluded_indices)\n",
    "        for i in range(len(all_compstars_mags)):\n",
    "            all_compstars_mags[i] = np.delete(all_compstars_mags[i], excluded_indices)\n",
    "        \n",
    "    # Calculates the measurement error for each bin of peak counts values\n",
    "    num_bins = compute_optimal_bin_number(A0620_peaks)\n",
    "    bins = np.linspace(min(A0620_peaks), max(A0620_peaks), num_bins)\n",
    "    errors = []\n",
    "    average_peak_counts = []\n",
    "    bins_with_data = []\n",
    "    for i in range(num_bins-1):\n",
    "        indices_in_bin = np.where((A0620_peaks >= bins[i]) & (A0620_peaks < bins[i+1] + (10**-14)))[0]\n",
    "        std_of_compstars_mag_in_bin = []\n",
    "        for single_compstar_mags in all_compstars_mags:\n",
    "            if len(single_compstar_mags[indices_in_bin]) > 1:\n",
    "                std_of_compstars_mag_in_bin.append(np.std(single_compstar_mags[indices_in_bin]))\n",
    "        if std_of_compstars_mag_in_bin == []:\n",
    "            break\n",
    "        mean_of_stds_in_bin = np.nanmean(std_of_compstars_mag_in_bin)\n",
    "        errors.append(mean_of_stds_in_bin)\n",
    "        bins_with_data.append([bins[i],bins[i+1]])\n",
    "        \n",
    "    # Plots the measurement error vs peak counts graph\n",
    "    x_axis_values = []\n",
    "    for i in range(len(bins_with_data)):\n",
    "        x_axis_values.append((bins_with_data[i][0]+bins_with_data[i][1])/2)\n",
    "    \n",
    "    def linear_regression(x, a, b):\n",
    "        y = a*x + b\n",
    "        return y\n",
    "    \n",
    "    fig = plt.figure(figsize=(20,5))\n",
    "    ax = fig.add_subplot()\n",
    "    popt, pcov = curve_fit(linear_regression, x_axis_values, errors)\n",
    "    slope, intercept = popt[0], popt[1]\n",
    "    ax.plot(x_axis_values, errors, 'bo')\n",
    "    predicted_line = slope * np.array(x_axis_values) + intercept\n",
    "    ax.plot(x_axis_values, predicted_line, 'r--',label=\"Line of Best Fit\")\n",
    "    ax.set_xlabel(\"Midpoint of Peak Counts Value Bin\")\n",
    "    ax.set_ylabel(\"Error in Bin of Peak Counts Value\")\n",
    "    ax.set_title(f\"Error for each Peak Counts Value\\n$R^2$: y= {round(slope, 5)}*x + {round(intercept, 5)}\")\n",
    "    ax.legend()\n",
    "    plt.show()\n",
    "    \n",
    "    # Plots the residuals graph\n",
    "    if include_residuals:\n",
    "        residuals_list = []\n",
    "        for i in range(len(errors)):\n",
    "            residuals_list.append(predicted_line[i] - errors[i])\n",
    "        fig2 = plt.figure(figsize=(20,5))\n",
    "        ax2 = fig2.add_subplot()\n",
    "        ax2.plot(errors, residuals_list, 'bo')\n",
    "        ax2.set_title(\"Fitted Value vs. Residuals\")\n",
    "        ax2.set_xlabel(\"Fitted Value\")\n",
    "        ax2.set_ylabel(\"Residuals\")\n",
    "        \n",
    "    return slope, intercept"
   ]
  },
  {
   "cell_type": "markdown",
   "metadata": {},
   "source": [
    "<b>Run the below cells to determine the fitted slope and error for each bandpass.</b>"
   ]
  },
  {
   "cell_type": "code",
   "execution_count": 28,
   "metadata": {
    "scrolled": true
   },
   "outputs": [
    {
     "name": "stdout",
     "output_type": "stream",
     "text": [
      "[17.214 17.204 17.201 17.208]\n",
      "[16.39  16.405 16.355 16.42 ]\n",
      "[16.474 16.491 16.504 16.396]\n",
      "[17.252 17.172 17.202 17.177 17.242 17.152 17.161 17.221 17.216 17.226\n",
      " 17.168 17.178 17.174]\n",
      "[16.383 16.403 16.394 16.39  16.374 16.378 16.39  16.381 16.354 16.34\n",
      " 16.365 16.367 16.409]\n",
      "[16.483 16.505 16.502 16.472 16.466 16.447 16.491 16.478 16.491 16.491\n",
      " 16.508 16.507 16.517]\n",
      "[17.203 17.187 17.211 17.163 17.129 17.17  17.223 17.15  17.19  17.242\n",
      " 17.216 17.219 17.163 16.949]\n",
      "[16.377 16.388 16.395 16.43  16.396 16.377 16.38  16.419 16.362 16.354\n",
      " 16.348 16.368 16.418 16.327]\n",
      "[16.505 16.507 16.494 16.507 16.514 16.481 16.475 16.425 16.463 16.495\n",
      " 16.51  16.503 16.5   16.488]\n",
      "[17.185 17.198 17.067 17.077 17.196 17.217 17.192 17.203]\n",
      "[16.38  16.397 16.401 16.424 16.344 16.369 16.355 16.379]\n",
      "[16.514 16.476 16.404 16.427 16.5   16.496 16.485 16.519]\n"
     ]
    },
    {
     "data": {
      "image/png": "[encoded data removed]",
      "text/plain": [
       "<Figure size 1440x360 with 1 Axes>"
      ]
     },
     "metadata": {
      "needs_background": "light"
     },
     "output_type": "display_data"
    }
   ],
   "source": [
    "slope_B, intercept_B = plt_error_vs_peak_counts_value(\"B\", [1,2,4])"
   ]
  },
  {
   "cell_type": "code",
   "execution_count": null,
   "metadata": {},
   "outputs": [],
   "source": [
    "slope_V, intercept_V = plt_error_vs_peak_counts_value(\"V\", [1,2,4])"
   ]
  },
  {
   "cell_type": "code",
   "execution_count": null,
   "metadata": {
    "scrolled": true
   },
   "outputs": [],
   "source": [
    "slope_I, intercept_I = plt_error_vs_peak_counts_value(\"I\", [1,2,4])"
   ]
  },
  {
   "cell_type": "markdown",
   "metadata": {},
   "source": [
    "After examining the error plot for the I band, we can see that any frames with A0620-00 peak counts values between 20 and 52 have too high a measurement error. This means we should exclude these frames from my downstream analysis.\n",
    "<br><b>Run the below cell to re-determine the slope and intercept for the I-band, excluding the outlier from the bin containing peak counts from 20 to 52.</b>"
   ]
  },
  {
   "cell_type": "code",
   "execution_count": null,
   "metadata": {
    "scrolled": false
   },
   "outputs": [],
   "source": [
    "slope_I, intercept_I = plt_error_vs_peak_counts_value(\"I\", [1,2,4], excluded_peaks_ranges=[[0,52]])"
   ]
  },
  {
   "cell_type": "markdown",
   "metadata": {},
   "source": [
    "Putting all these fit parameters into a dictionary. <b>Manually input the variables each bandpass's fitted slope and intercept in order for the pipeline to work properly.</b>"
   ]
  },
  {
   "cell_type": "code",
   "execution_count": null,
   "metadata": {},
   "outputs": [],
   "source": [
    "err_fit_dict = {\n",
    "    \"slope\": {\n",
    "        \"B\": slope_B,\n",
    "        \"V\": slope_V,\n",
    "        \"I\": slope_I\n",
    "    },\n",
    "    \"intercept\": {\n",
    "        \"B\": intercept_B,\n",
    "        \"V\": intercept_V,\n",
    "        \"I\": intercept_I\n",
    "    }\n",
    "}"
   ]
  },
  {
   "cell_type": "markdown",
   "metadata": {},
   "source": [
    "## Creating the Errors Dictionary"
   ]
  },
  {
   "cell_type": "markdown",
   "metadata": {},
   "source": [
    "Defining a helper function."
   ]
  },
  {
   "cell_type": "code",
   "execution_count": null,
   "metadata": {},
   "outputs": [],
   "source": [
    "def find_measurement_error(peak_counts, slope, intercept):\n",
    "    '''Finds the measurement error for an observation based on a\n",
    "       linear regression equation that calculates measurement error\n",
    "       as a function of peak count value of A0620-00.'''\n",
    "    return slope*peak_counts + intercept"
   ]
  },
  {
   "cell_type": "markdown",
   "metadata": {},
   "source": [
    "Creating a dictionary containing the errors of each luminosity data point, sorted by bandpass and night. The errors are calculated based off the fit between peak counts and measurement error in the previous section."
   ]
  },
  {
   "cell_type": "code",
   "execution_count": null,
   "metadata": {},
   "outputs": [],
   "source": [
    "errors_dict = {}\n",
    "for bandpass in list(A0620_peaks_dict.keys()):\n",
    "    errors_per_night = {}\n",
    "    for night in A0620_peaks_dict[bandpass]:\n",
    "        errors_per_night[night] = find_measurement_error(A0620_peaks_dict[bandpass][night], err_fit_dict[\"slope\"][bandpass], err_fit_dict[\"intercept\"][bandpass])\n",
    "    errors_dict[bandpass] = errors_per_night"
   ]
  },
  {
   "cell_type": "code",
   "execution_count": null,
   "metadata": {},
   "outputs": [],
   "source": [
    "# Converts time in days to time in seconds\n",
    "def convert_days_to_seconds(num_days):\n",
    "    return num_days*86400 #There are 86400 seconds in a day\n",
    "\n",
    "# Converts time in days to time in minutes\n",
    "def convert_days_to_minutes(num_days):\n",
    "    return num_days*1440 #There are 1440 minutes in a day\n",
    "\n",
    "# Find the earliest time value in MJD_dict\n",
    "def dict_stats(dictionary):\n",
    "    flattened_list = []\n",
    "    for bandpass in list(dictionary.keys()):\n",
    "        for night in list(dictionary[bandpass].keys()):\n",
    "            for time in dictionary[bandpass][night]:\n",
    "                flattened_list.append(time)\n",
    "    return min(flattened_list), max(flattened_list), np.std(flattened_list)"
   ]
  },
  {
   "cell_type": "markdown",
   "metadata": {},
   "source": [
    "<b>Manually input any bandpasses and nights that do not have error bars into the below 2D list, otherwise the light curve plotting function will fail when trying to plot that specific bandpass+night.</b>"
   ]
  },
  {
   "cell_type": "code",
   "execution_count": null,
   "metadata": {},
   "outputs": [],
   "source": [
    "exclude_err = [[\"I\", \"2001 to 2019\"]]"
   ]
  },
  {
   "cell_type": "markdown",
   "metadata": {},
   "source": [
    "The below function plots a light curve of any bandpass(es) and night(s) within the data fed into this pipeline.\n",
    "<br>Parameters:\n",
    "<ul>\n",
    "    <li><b>bandpasses_and_nights</b>: A nx2 list containing the bandpasses and nights for which you want to plot the light curves for. Each row in the list is formatted as [bandpass, night], where bandpass and night are keys (as dtype=str) that are able to be found within the A0620_true_mags_dict, accretion_flow_mags_dict, and orbital_phases_dict.</li>\n",
    "    <li><b>ell_sub</b>: A boolean specifying whether you want the light curve to plot the data from the bandpasses+nights with ellipsoidal variability subtracted from the light curves. True: ellipsoidal variability subtracted. False: ellipsoidal variability not subtracted.\n",
    "    <li><b>phase_shift</b>: A float specifying the phase shift to perform on the data if plotting luminosity vs orbital phase. Use this if you want to align the peaks and troughs of the light curve with phases 0.0, 0.25, 0.5, 0.75, and 1.0, which is how most light curves in astronomy are presented. The phases will be shifted backward by phase_shift; for example, if you specify phase_shift = 0.15, all the phases of the data points in the light curve will be shifted back by 0.15. Default phase_shift is 0.</li>\n",
    "    <li><b>include_err</b>: A boolean specifying whether you want to include error bars on your data points. Default include_err is False.\n",
    "    <li><b>x_in_sec</b>: A boolean specifying whether you want to plot luminosity as a function of time in seconds or plot luminosity as a function of orbital phase. True: plot luminosity vs time. False: plot luminosity vs orbital phase. Default x_in_sec is False.\n",
    "    <li><b>zoom_in</b>: A boolean specifying whether you want to zoom in on the light curve or keep the y-axes same for all potential light curves in the data fed into this pipeline. True: zooms in (makes the y-axes 'fit' the data). False: zooms out (keeps the ticks on the y axes the same for every plot). Default zoom_in is False.\n",
    "    <li><b>savefig</b>: A boolean specifying whether you want to save the figure as a file. If True, the figure will be saved as a .png file with the filename specified by the <i>filename</i> parameter under the same directory in which this Jupyter Notebook's .ipynb file is found. Default savefig is False.\n",
    "    <li><b>filename</b>: A string specifying the name of the .png file you want to save the figure as. Only relevant if savefig=True. Do not include the file extension in this string. Default filename is \"fig\".\n",
    "</ul>"
   ]
  },
  {
   "cell_type": "code",
   "execution_count": null,
   "metadata": {},
   "outputs": [],
   "source": [
    "def plot_light_curve(bandpasses_and_nights, ell_sub, phase_shift = 0, include_err=False, x_in_sec=False, zoom_in = False, savefig=False, filename=\"fig\"): #dataset, x_axis_units_in_seconds = False, include_std_bars = True, normalize_to_Dec_data = False):\n",
    "    '''Plots the light curve for specified bandpasse(s) and night(s).'''\n",
    "    # Setting up the figure\n",
    "    fig = plt.figure(figsize=(15,5))\n",
    "    ax = fig.add_subplot()\n",
    "    \n",
    "    if ell_sub:\n",
    "        ax.set_ylabel(\"\\u0394 Magnitude\",fontsize=14)\n",
    "        y_lo, y_hi, y_std = dict_stats(accretion_flow_mags_dict)\n",
    "    else:\n",
    "        ax.set_ylabel(\"Magnitude\", fontsize=14)\n",
    "        y_lo, y_hi, y_std = dict_stats(A0620_true_mags_dict)\n",
    "        \n",
    "    if zoom_in:\n",
    "        ax.invert_yaxis()\n",
    "    else:\n",
    "        ax.set_ylim(y_hi + y_std, y_lo - y_std)\n",
    "\n",
    "    # Plotting the light curves\n",
    "    for bandpass_and_night in bandpasses_and_nights:\n",
    "        bandpass, night = bandpass_and_night\n",
    "        if bandpass_and_night in exclude_err: # If we cannot find the errors for the bandpass+night, make a dummy error list of 0, otherwise, use actual errors.\n",
    "            errs = [0]*len(A0620_true_mags_dict[bandpass][night]) \n",
    "        else:\n",
    "            errs = errors_dict[bandpass][night]\n",
    "        \n",
    "        if ell_sub: # Graphing the light curves w/ ellipsoidal variability subtracted\n",
    "            y_axis_vals = accretion_flow_mags_dict[bandpass][night]\n",
    "        else: # Graphing the light curves w/o ellipsoidal variability subtracted\n",
    "            y_axis_vals = A0620_true_mags_dict[bandpass][night]\n",
    "        \n",
    "        if x_in_sec: # Graphing the light curves in units of seconds\n",
    "            x_axis_vals = convert_days_to_seconds(np.array(MJD_dict[bandpass][night]))\n",
    "            t_lo, t_hi, t_std = convert_days_to_seconds(dict_stats(MJD_dict))\n",
    "            x_axis_vals = x_axis_vals - t_lo\n",
    "            err_vals = errs\n",
    "            ax.tick_params(axis='both', which='major', labelsize=14)\n",
    "            ax.set_xlabel(f\"Time (seconds) - {t_lo}\", fontsize=14)\n",
    "            ax.set_title(\"Time vs Magnitude Plot\", fontsize=14)\n",
    "        else: # Graphing the light curves in units of orbital phase\n",
    "            phases = np.array(orbital_phases_dict[bandpass][night])\n",
    "            shifted_phases = phases - phase_shift\n",
    "            new_phases = []\n",
    "            for i in range(len(shifted_phases)):\n",
    "                if shifted_phases[i] < 0:\n",
    "                    new_phases.append(1 + shifted_phases[i]) # We use a + sign because shifted_phases[i] is negative if this if condition is True\n",
    "                else:\n",
    "                    new_phases.append(shifted_phases[i])\n",
    "            new_phases = np.array(new_phases)\n",
    "            x_axis_vals = np.append(new_phases, [x + 1 for x in new_phases])\n",
    "            y_axis_vals = np.append(y_axis_vals, y_axis_vals)\n",
    "            err_vals = np.append(errs, errs)\n",
    "            ax.set_xlim(0.0,2.0)\n",
    "            ax.set_xticks([0.0, 0.25, 0.5, 0.75, 1.0, 1.25, 1.5, 1.75, 2.0])\n",
    "            ax.xaxis.set_minor_locator(AutoMinorLocator())\n",
    "            ax.tick_params(which='minor', length=4)\n",
    "            ax.tick_params(axis='both', which='major', labelsize=14)\n",
    "            ax.set_xlabel(\"Orbital Phase\", fontsize=14)\n",
    "            ax.set_title(\"Orbital Phase vs Magnitude Plot\", fontsize=14)\n",
    "                \n",
    "        if include_err: # Graphing the light curves w/ error bars included\n",
    "            ax.errorbar(x_axis_vals, y_axis_vals, err_vals, fmt='.', alpha=0.5, label=f\"Bandpass {bandpass}, {night}\")\n",
    "        else: # Graphing the light curves w/o error bars included\n",
    "            ax.plot(x_axis_vals, y_axis_vals, '.', alpha=0.5, label=f\"Bandpass {bandpass}, {night}\")\n",
    "    ax.legend()\n",
    "    \n",
    "    if savefig:\n",
    "        fig.savefig(f\"{filename}.png\")"
   ]
  },
  {
   "cell_type": "markdown",
   "metadata": {},
   "source": [
    "<b>In the below cell(s) you can plot as many light curves as you wish with the plot_light_curve function.</b>"
   ]
  },
  {
   "cell_type": "code",
   "execution_count": null,
   "metadata": {},
   "outputs": [],
   "source": [
    "plot_light_curve([[\"I\",\"19Dec2020\"],[\"I\",\"19Mar2021\"],[\"I\",\"16Apr2021\"], [\"I\",\"2001 to 2019\"]], ell_sub=False, include_err=True, zoom_in=False)"
   ]
  },
  {
   "cell_type": "markdown",
   "metadata": {},
   "source": [
    "Notice how the data is not properly aligned with the orbital phase axis. The peaks and troughs don't correspond to phase = 0.0, 0.25, 0.50, 0.75, and 1.0, so we need to manually specify a phase shift for our plots that we will then use whenever plotting light curve plots. We can either get this phase shift through eyeballing, or more precisely, using code.\n",
    "<br><b>Run the below cell to define the phase shift we want to shift the data by.</b>"
   ]
  },
  {
   "cell_type": "code",
   "execution_count": null,
   "metadata": {},
   "outputs": [],
   "source": [
    "historical_mags = A0620_true_mags_dict[\"I\"][\"2001 to 2019\"]\n",
    "historical_phases = orbital_phases_dict[\"I\"][\"2001 to 2019\"]\n",
    "phase_shift = historical_phases[np.where(historical_mags == np.max(historical_mags))[0][0]] # Need np.max because magnitude system is inverted"
   ]
  },
  {
   "cell_type": "markdown",
   "metadata": {},
   "source": [
    "<b>Re-plot your desired plots with the phase shift.</b>"
   ]
  },
  {
   "cell_type": "code",
   "execution_count": null,
   "metadata": {},
   "outputs": [],
   "source": [
    "plot_light_curve([[\"I\",\"19Dec2020\"],[\"I\",\"19Mar2021\"],[\"I\",\"16Apr2021\"]], ell_sub=True, phase_shift = phase_shift, include_err=True, zoom_in=True)"
   ]
  },
  {
   "cell_type": "markdown",
   "metadata": {},
   "source": [
    "## Graphing the Autocorrelation Plots"
   ]
  },
  {
   "cell_type": "markdown",
   "metadata": {},
   "source": [
    "The below function plots the autocorrelation plot of any bandpass(es) and night(s) within the data fed into this pipeline. An autocorrelation plot measures the degree of similarity of a time series to a time-lagged version of itself, and thus it is used as a metric of periodicity for a time series.\n",
    "<br>Parameters:\n",
    "<ul>\n",
    "    <li><b>bandpasses_and_nights</b>: A nx2 list containing the bandpasses and nights for which you want to plot the light curves for. Each row in the list is formatted as [bandpass, night], where bandpass and night are keys (as dtype=str) that are able to be found within the A0620_true_mags_dict, accretion_flow_mags_dict, and MJD_dict.\n",
    "    <li><b>ell_sub</b>: A boolean specifying whether you want the autocorrelation plot to use the data from the bandpasses+nights with ellipsoidal variability subtracted from the light curves. True: ellipsoidal variability subtracted. False: ellipsoidal variability not subtracted.\n",
    "    <li><b>min_time_offset</b>: The minimum time offset you want to use for the autocorrelation plot, in minutes. Default min_time_offset is 0.\n",
    "    <li><b>max_time_offset</b>: The maximum time offset you want to use for the autocorrelation plot, in minutes. Default max_time_offset is 100.\n",
    "    <li><b>step</b>: The step you want to iterate by when going through time offsets for the autocorrelation plot, in minutes. Default step is 25./60 (or 0.41666 minutes).\n",
    "    <li><b>searching_range</b>: The time in minutes that you want to search for 'nearby points' when calculating the brightness variation between data points. Default searching_range is 11./60 (or 0.18333 minutes).\n",
    "    <li><b>include_err</b>: A boolean for whether you want to include error bars in the plot. Default include_err is False.\n",
    "    <li><b>savefig</b>: A boolean specifying whether you want to save the figure as a file. If True, the figure will be saved as a .png file with the filename specified by the <i>filename</i> parameter under the same directory in which this Jupyter Notebook's .ipynb file is found. Default savefig is False.\n",
    "    <li><b>filename</b>: A string specifying the name of the .png file you want to save the figure as. Only relevant if savefig=True. Do not include the file extension in this string. Default filename is \"fig\".\n",
    "</ul>"
   ]
  },
  {
   "cell_type": "code",
   "execution_count": null,
   "metadata": {},
   "outputs": [],
   "source": [
    "def plot_autocorrelations(bandpasses_and_nights, ell_sub=True, min_time_offset=0, max_time_offset=100, step=25./60, searching_range=11./60, include_err = False, savefig=False, filename=\"fig\"):\n",
    "    '''This function looks at the timescale of variability in the A0620-00 data.\n",
    "       The function is self-correcting in the sense that if there are not a lot of sample data values for certain time offsets\n",
    "          due to low time resolution of the data, the plot produced will just omit these time offsets so as to not\n",
    "          skew any results.\n",
    "       I call the y-axis 'correlation'. How I calculate correlation values is detailed below.\n",
    "          1) Compare each point in the light curve to a point that is some time offset away (ex: ~25 sec).\n",
    "          2) Take the difference squared in magnitude between the time offset point and the reference point in the light curve.\n",
    "                (We square the difference so that the value is positive, since difference should be a positive value). \n",
    "          3) Do step 2 for each point in the light curve, and take the average of all these differences squared.\n",
    "                I will call this average my correlation value for that specific time offset.\n",
    "          4) Repeat steps 1 to 3 for every time offset between min_time_offset and max_time_offset.\n",
    "          5) Plot the correlation values as a function of time offset.\n",
    "       A peak in the y value is a candidate timescale for variability in the dataset.\n",
    "       min_time_offset and max_time_offset are both in seconds here.\n",
    "       searching_range is in units of seconds and is a parameter used to help actually find the time offset point in the dataset'''\n",
    "    list_of_time_offsets = np.linspace(min_time_offset, max_time_offset, math.ceil((max_time_offset - min_time_offset) / step)+1)\n",
    "    time_offsets_all = []\n",
    "    autocorrelation_all = []\n",
    "    errors_all = []\n",
    "    fig = plt.figure()\n",
    "    #fig.text(0.075, 0.925, '(a)', fontsize=14)\n",
    "    ax = fig.add_subplot()\n",
    "    dummy_in = 0\n",
    "    for bandpass_and_night in bandpasses_and_nights:\n",
    "        # Setting up\n",
    "        bandpass, night = bandpass_and_night\n",
    "        if ell_sub:\n",
    "            mags = accretion_flow_mags_dict[bandpass][night]\n",
    "        else:\n",
    "            mags = A0620_true_mags_dict[bandpass][night]\n",
    "        mean_mag = np.mean(mags)\n",
    "        mags_mean_sub = np.array(mags) - mean_mag\n",
    "        correlation_list = []\n",
    "        error_list = []\n",
    "        time_offsets_included_in_plot = []\n",
    "        num_matches_with_more_than_2_points = 0\n",
    "        num_matches_with_2_points = 0\n",
    "        num_matches_with_zero_points = 0\n",
    "        time_min = convert_days_to_minutes(np.array(MJD_dict[bandpass][night]))\n",
    "        \n",
    "        # Finding the denominator in the error calculation\n",
    "        denominator_list = []\n",
    "        for m in range(len(mags_mean_sub)):\n",
    "            denominator_list.append(mags_mean_sub[m]**2)\n",
    "        denominator = np.sum(denominator_list)\n",
    "        errors = errors_dict[bandpass][night]\n",
    "        error_of_the_denominator = np.sqrt(np.sum([error_value**2 for error_value in errors]))\n",
    "        \n",
    "        # Find the errors\n",
    "        for i in range(len(list_of_time_offsets)):\n",
    "            numerator_list = []\n",
    "            normalized_value_for_that_point_list = []\n",
    "            error_for_that_point_list = []\n",
    "            for j in range(len(time_min)):\n",
    "                indices_of_time_offset_points = np.where(np.abs(time_min - time_min[j] - list_of_time_offsets[i]) < searching_range)[0]\n",
    "                if len(indices_of_time_offset_points) > 2:\n",
    "                    num_matches_with_more_than_2_points += 1\n",
    "                if len(indices_of_time_offset_points) == 2:\n",
    "                    num_matches_with_2_points += 1\n",
    "                if len(indices_of_time_offset_points) == 0:\n",
    "                    num_matches_with_zero_points += 1\n",
    "                mean_magnitude_of_time_offset_points = np.nanmean(mags_mean_sub[indices_of_time_offset_points])\n",
    "                \n",
    "                numerator_for_that_point = (mean_magnitude_of_time_offset_points * mags_mean_sub[j])\n",
    "                numerator_list.append(numerator_for_that_point)\n",
    "\n",
    "                #1) Find out the mean error of all the hits I receive\n",
    "                squared_errors = [error_value**2 for error_value in errors[indices_of_time_offset_points]]\n",
    "                combined_error_of_time_offset_points = np.sqrt(np.nansum(squared_errors)) / len(squared_errors)\n",
    "\n",
    "                #2) Find out the error of the product of the reference point and the time offset point.\n",
    "                error_of_the_product = np.abs(mean_magnitude_of_time_offset_points * mags_mean_sub[j]) * np.sqrt((combined_error_of_time_offset_points / mean_magnitude_of_time_offset_points)**2 + (errors[j] / mags_mean_sub[j])**2)\n",
    "                error_for_that_point_list.append(error_of_the_product)\n",
    "\n",
    "            # Below is the segment of code where I remove any time_offsets from the final plot that don't have\n",
    "            #    enough data to be meaningful. How I define what are 'bad' time_offsets without 'enough' data is\n",
    "            #    I look at which time_offsets have less than 50 real data values, and I exclude those time_offsets\n",
    "            #    from the final plot.\n",
    "            # Find the correlations\n",
    "            num_finites = 0\n",
    "            for k in range(len(numerator_list)):\n",
    "                if np.isfinite(numerator_list[k]):\n",
    "                    num_finites+=1\n",
    "            #print(f\"num_finites: {num_finites}\")\n",
    "            if num_finites >= 50:\n",
    "                numerator = np.nansum(numerator_list)\n",
    "                correlation_list.append(numerator / denominator)\n",
    "                squared_errors = [error_value**2 for error_value in error_for_that_point_list]\n",
    "                error_numerator_for_that_k = np.sqrt(np.nansum(squared_errors))\n",
    "                error_of_the_correlation_value = np.abs(numerator / denominator) * np.sqrt((error_numerator_for_that_k / numerator)**2 + (error_of_the_denominator / denominator)**2)\n",
    "                error_list.append(error_of_the_correlation_value)\n",
    "\n",
    "                time_offsets_included_in_plot.append(list_of_time_offsets[i])\n",
    "        \n",
    "        time_offsets_all.append(time_offsets_included_in_plot)\n",
    "        autocorrelation_all.append(correlation_list)\n",
    "        errors_all.append(error_list)\n",
    "        \n",
    "        # Plotting the autocorrelation plots\n",
    "        if include_err:\n",
    "            ax.errorbar(time_offsets_included_in_plot, correlation_list, error_list, fmt='.', markersize=4, alpha=0.5, label=f\"Bandpass {bandpass}, {night}\")\n",
    "        else:\n",
    "            ax.plot(time_offsets_included_in_plot, correlation_list, '.', markersize=4, alpha=0.5, label=f\"Bandpass {bandpass}, {night}\")\n",
    "        ax.axhline(0, color='black', ls='--')\n",
    "        ax.set_xlabel(\"Time Lag (in minutes)\", fontsize=14)\n",
    "        ax.set_ylabel(\"Autocorrelation\", fontsize=14)\n",
    "        ax.set_title(f\"Autocorrelation Function\", fontsize=14)\n",
    "        ax.xaxis.set_minor_locator(AutoMinorLocator())\n",
    "        ax.tick_params(axis='both', which='major', labelsize=14)\n",
    "        ax.tick_params(which='minor', length=4)\n",
    "        ax.legend()\n",
    "        \n",
    "        if savefig:\n",
    "            fig.savefig(f'{filename}.png')\n",
    "    \n",
    "    return time_offsets_all, autocorrelation_all, errors_all"
   ]
  },
  {
   "cell_type": "markdown",
   "metadata": {},
   "source": [
    "<b>In the below cell(s) you can plot as many autocorrelation plots as you wish with the plot_autocorrelations function.</b>"
   ]
  },
  {
   "cell_type": "code",
   "execution_count": null,
   "metadata": {
    "scrolled": true
   },
   "outputs": [],
   "source": [
    "time_offsets, autocorrelations, errors = plot_autocorrelations([[\"I\",\"19Dec2020\"],[\"I\",\"16Apr2021\"],[\"I\",\"19Mar2021\"]], ell_sub=False, include_err = False)"
   ]
  },
  {
   "cell_type": "markdown",
   "metadata": {},
   "source": [
    "## Graphing Light Curve Folded Over Quasi-Periodic Period"
   ]
  },
  {
   "cell_type": "markdown",
   "metadata": {},
   "source": [
    "The below function plots a luminosity vs phase plot of any bandpass(es) and night(s) within the data fed into this pipeline. The data is folded over a specified period and then binned by phase. This plot is meant to detect whether the degree of variability in different datasets is similar to each other at a specific period, which will then tell you whether the period is a plausible quasiperiod for the data.\n",
    "<br>Parameters:\n",
    "<ul>\n",
    "    <li><b>bandpasses_and_nights</b>: A nx2 list containing the bandpasses and nights for which you want to plot the light curves for. Each row in the list is formatted as [bandpass, night], where bandpass and night are keys (as dtype=str) that are able to be found within the A0620_true_mags_dict, accretion_flow_mags_dict, and MJD_dict.\n",
    "    <li><b>quasiperiod</b>: The period in which the data will be folded over, in minutes.\n",
    "    <li><b>shift_index</b>: The number of bins to shift over backwards in order to align the data points of the different datasets together. Only the bandpasses_and_nights in the 2nd row and onward in the bandpasses_and_nights list will have their phase bins shifted over backwards. The purpose of shifting over phase bins backwards is to make it easier to eyeball whether the variability of the datasets are similar, which would be indicated by the plot of the datasets exhibiting similar curves after a proper shift_index is applied. Default shift_index is 0.\n",
    "    <li><b>ell_sub</b>: A boolean specifying whether you want the autocorrelation plot to use the data from the bandpasses+nights with ellipsoidal variability subtracted from the light curves. True: ellipsoidal variability subtracted. False: ellipsoidal variability not subtracted. Default ell_sub is True.\n",
    "    <li><b>include_err</b>: A boolean for whether you want to include error bars in the plot. Default include_err is True.\n",
    "    <li><b>zoom_in</b>: A boolean specifying whether you want to zoom in on the light curve or keep the y-axes same for all potential light curves in the data fed into this pipeline. True: zooms in (makes the y-axes 'fit' the data). False: zooms out (keeps the ticks on the y axes the same for every plot). Default zoom_in is False.\n",
    "    <li><b>savefig</b>: A boolean specifying whether you want to save the figure as a file. If True, the figure will be saved as a .png file with the filename specified by the <i>filename</i> parameter under the same directory in which this Jupyter Notebook's .ipynb file is found. Default savefig is False.\n",
    "    <li><b>filename</b>: A string specifying the name of the .png file you want to save the figure as. Only relevant if savefig=True. Do not include the file extension in this string. Default filename is \"fig\".\n",
    "</ul>"
   ]
  },
  {
   "cell_type": "code",
   "execution_count": null,
   "metadata": {},
   "outputs": [],
   "source": [
    "def plot_folded_curve(bandpasses_and_nights, quasiperiod, shift_index=0, ell_sub=True, include_err = True, zoom_in = False, savefig=False, filename=\"\"):\n",
    "    phase_bin_means_all = []\n",
    "    phase_bin_sems_all = []\n",
    "    fig = plt.figure(figsize=(15,5))\n",
    "    #fig.text(0.075, 0.925, '(b)', fontsize=14)\n",
    "    ax = fig.add_subplot()\n",
    "    ax.set_xlabel(\"Phase Bins\",fontsize=14)\n",
    "    ax.set_ylabel(\"Mean of Magnitudes in Phase Bin\",fontsize=14)\n",
    "    ax.set_title(f\"Brightness vs. Phase Plot\\nFolded Over {quasiperiod} Minutes\",fontsize=14)\n",
    "    ax.tick_params(axis='both', which='major', labelsize=14)\n",
    "    ax.tick_params(which='minor', length=4)\n",
    "    \n",
    "    if ell_sub:\n",
    "        y_lo, y_hi, y_std = dict_stats(accretion_flow_mags_dict)\n",
    "    else:\n",
    "        y_lo, y_hi, y_std = dict_stats(A0620_true_mags_dict)\n",
    "        \n",
    "    if zoom_in:\n",
    "        ax.invert_yaxis()\n",
    "    else:\n",
    "        ax.set_ylim(y_hi + y_std, y_lo - y_std)\n",
    "    \n",
    "    phase_bins = ['0.0 to 0.1', '0.1 to 0.2', '0.2 to 0.3', '0.3 to 0.4', '0.4 to 0.5', '0.5 to 0.6', '0.6 to 0.7', '0.7 to 0.8', '0.8 to 0.9', '0.9 to 1.0']\n",
    "    for i in range(len(bandpasses_and_nights)):\n",
    "        bandpass, night = bandpasses_and_nights[i]\n",
    "        if ell_sub:\n",
    "            mags = accretion_flow_mags_dict[bandpass][night]\n",
    "        else:\n",
    "            mags = A0620_true_mags_dict[bandpass][night]\n",
    "            \n",
    "        time_min = convert_days_to_minutes(np.array(MJD_dict[bandpass][night]))\n",
    "        phases = (time_min/quasiperiod) - (time_min/quasiperiod).astype(int)\n",
    "\n",
    "        phase_bin_means = []\n",
    "        phase_bin_sems = []\n",
    "        for phase in np.linspace(0,0.9,10):\n",
    "            phase_indices = np.where((phases >= float(phase)) & (phases < phase+0.1+10**-15))[0]\n",
    "            phase_bin_means.append(np.nanmean(mags[phase_indices]))\n",
    "            phase_bin_sems.append(stats.sem(mags[phase_indices]))\n",
    "        if i != 0:\n",
    "            shifted_phase_bin_means = np.append(phase_bin_means[shift_index:], phase_bin_means[:shift_index])\n",
    "            shifted_phase_bin_sems = np.append(phase_bin_sems[shift_index:], phase_bin_sems[:shift_index])\n",
    "            if include_err:\n",
    "                ax.errorbar(phase_bins, shifted_phase_bin_means, shifted_phase_bin_sems, fmt='.', label=f\"Bandpass {bandpass}, {night}\")\n",
    "            else:\n",
    "                ax.plot(phase_bins, shifted_phase_bin_means, '.', label=f\"Bandpass {bandpass}, {night}\")\n",
    "            phase_bin_means_all.append(shifted_phase_bin_means)\n",
    "            phase_bin_sems_all.append(shifted_phase_bin_sems)\n",
    "        else:\n",
    "            if include_err:\n",
    "                ax.errorbar(phase_bins, phase_bin_means, phase_bin_sems, fmt='.', label=f\"Bandpass {bandpass}, {night}\")\n",
    "            else:\n",
    "                ax.plot(phase_bins, phase_bin_means, '.', label=f\"Bandpass {bandpass}, {night}\")\n",
    "            phase_bin_means_all.append(phase_bin_means)\n",
    "            phase_bin_sems_all.append(phase_bin_sems)\n",
    "        \n",
    "    ax.legend()\n",
    "    \n",
    "    if savefig:\n",
    "        fig.savefig(f\"{filename}.png\")\n",
    "    return shifted_phase_bin_means, shifted_phase_bin_sems"
   ]
  },
  {
   "cell_type": "markdown",
   "metadata": {},
   "source": [
    "<b>In the below cell(s) you can plot as many brightness vs phase plots as you wish with the plot_folded_curve function.</b>"
   ]
  },
  {
   "cell_type": "code",
   "execution_count": null,
   "metadata": {},
   "outputs": [],
   "source": [
    "phase_bin_means, phase_bin_errors = plot_folded_curve([[\"I\", \"19Dec2020\"], [\"I\",\"16Apr2021\"], [\"I\",\"19Mar2021\"]], 38, 4, zoom_in=True)"
   ]
  },
  {
   "cell_type": "markdown",
   "metadata": {},
   "source": [
    "## Graphing PDM Periodogram"
   ]
  },
  {
   "cell_type": "markdown",
   "metadata": {},
   "source": [
    "The below function plots the phase dispersion minimization (PDM) plot of any bandpass(es) and night(s) within the data fed into this pipeline. From Wikipedia, a PDM periodogram \"is useful for data sets with gaps, non-sinusoidal variations, poor time coverage or other problems that would make Fourier techniques unusable.\"\n",
    "<br>Parameters:\n",
    "<ul>\n",
    "    <li><b>bandpasses_and_nights</b>: A nx2 list containing the bandpasses and nights for which you want to plot the light curves for. Each row in the list is formatted as [bandpass, night], where bandpass and night are keys (as dtype=str) that are able to be found within the A0620_true_mags_dict, accretion_flow_mags_dict, and MJD_dict.\n",
    "    <li><b>ell_sub</b>: A boolean specifying whether you want the autocorrelation plot to use the data from the bandpasses+nights with ellipsoidal variability subtracted from the light curves. True: ellipsoidal variability subtracted. False: ellipsoidal variability not subtracted.\n",
    "    <li><b>min_period</b>: The starting period, in minutes. Default min_period is 0.01.\n",
    "    <li><b>max_period</b>: The ending period, in minutes. Default max_period is 120.\n",
    "    <li><b>step</b>: The step you want to iterate by when going through periods, in minutes. Default step is 1.\n",
    "    <li><b>include_err</b>: A boolean for whether you want to include error bars in the plot. Default include_err is False.\n",
    "    <li><b>savefig</b>: A boolean specifying whether you want to save the figure as a file. If True, the figure will be saved as a .png file with the filename specified by the <i>filename</i> parameter under the same directory in which this Jupyter Notebook's .ipynb file is found. Default savefig is False.\n",
    "    <li><b>filename</b>: A string specifying the name of the .png file you want to save the figure as. Only relevant if savefig=True. Do not include the file extension in this string. Default filename is \"fig\".\n",
    "</ul>"
   ]
  },
  {
   "cell_type": "code",
   "execution_count": null,
   "metadata": {},
   "outputs": [],
   "source": [
    "def plot_PDM_periodogram(bandpasses_and_nights, ell_sub=True, min_period = 0.01, max_period = 120, step = 1, include_err=False, savefig=False, filename=\"fig\"):\n",
    "    '''Creates a plot with a list of periods on the x-axis and a ratio of standard deviations on the y-axis.\n",
    "       The ratio of standard deviations is computed as noted in my \"Manually Guessing Period\" portion of my lab notebook.\n",
    "           max_period_guess is the maximum period to try; it should be inputted in units of minutes.\n",
    "           step is the step in between each period; use a short step if you want to be more precise, \n",
    "               use a large step if you want the algorithm to run faster.'''\n",
    "    periods = np.linspace(min_period, max_period, math.ceil((max_period - min_period) / step)+1)\n",
    "    fig = plt.figure()\n",
    "    ax = fig.add_subplot()\n",
    "    ax.xaxis.set_minor_locator(AutoMinorLocator())\n",
    "    ax.set_xlabel(\"Period (minutes)\")\n",
    "    ax.set_ylabel(\"Ratio of Variances\")\n",
    "    ax.set_title(\"PDM Periodogram\")\n",
    "    \n",
    "    for bandpass_and_night in bandpasses_and_nights:\n",
    "        bandpass, night = bandpass_and_night\n",
    "        if ell_sub:\n",
    "            mags = accretion_flow_mags_dict[bandpass][night]\n",
    "        else:\n",
    "            mags = A0620_true_mags_dict[bandpass][night]\n",
    "        num_bins = compute_optimal_bin_number(mags)\n",
    "        ratio_of_variances_list = []\n",
    "        time_days = MJD_dict[bandpass][night]\n",
    "        time_min = convert_days_to_minutes(np.array(time_days))\n",
    "        \n",
    "        for period in periods:\n",
    "            phases = (time_min/period) - (time_min/period).astype(int)\n",
    "            bins = np.linspace(0,1,num_bins)\n",
    "            variance_list = []\n",
    "            for j in range(len(bins)-1):\n",
    "                phase_indices = np.where((phases >= bins[j]) & (phases < bins[j+1]+(10**-15)))[0]\n",
    "                #print(f\"Number of data points within each phase bin: {len(phase_indices)}\")\n",
    "                mag_in_phase_bin = mags[phase_indices]\n",
    "                variance_list.append(np.var(mag_in_phase_bin))\n",
    "            avg_binned_variance = np.nanmean(variance_list)\n",
    "            total_variance = np.var(mags)\n",
    "            ratio_of_variances_list.append(avg_binned_variance / total_variance)\n",
    "    \n",
    "        #Link to formula that I used to calculate the standard deviation of the sample variance: \n",
    "        #   https://math.stackexchange.com/a/3302056\n",
    "        multiplicand = np.sqrt(2/(len(ratio_of_variances_list)-1))\n",
    "        yerr = [(ratio_of_variance**2)*multiplicand for ratio_of_variance in ratio_of_variances_list]\n",
    "\n",
    "        if include_err:\n",
    "            ax.errorbar(periods, ratio_of_variances_list, yerr=yerr, label=f\"Bandpass {bandpass}, {night}\")\n",
    "        else:\n",
    "            ax.plot(periods, ratio_of_variances_list, label=f\"Bandpass {bandpass}, {night}\")\n",
    "    ax.legend()\n",
    "    \n",
    "    if savefig:\n",
    "        fig.savefig(f\"{filename}.png\")"
   ]
  },
  {
   "cell_type": "markdown",
   "metadata": {},
   "source": [
    "<b>In the below cell(s) you can plot as many PDM periodograms as you wish with the plot_PDM_periodogram function.</b>"
   ]
  },
  {
   "cell_type": "code",
   "execution_count": null,
   "metadata": {},
   "outputs": [],
   "source": [
    "plot_PDM_periodogram([[\"I\",\"19Dec2020\"],[\"I\",\"2001 to 2019\"]], ell_sub=False, include_err=False)"
   ]
  },
  {
   "cell_type": "markdown",
   "metadata": {},
   "source": []
  },
  {
   "cell_type": "code",
   "execution_count": null,
   "metadata": {},
   "outputs": [],
   "source": []
  }
 ],
 "metadata": {
  "kernelspec": {
   "display_name": "Python 3",
   "language": "python",
   "name": "python3"
  },
  "language_info": {
   "codemirror_mode": {
    "name": "ipython",
    "version": 3
   },
   "file_extension": ".py",
   "mimetype": "text/x-python",
   "name": "python",
   "nbconvert_exporter": "python",
   "pygments_lexer": "ipython3",
   "version": "3.8.5"
  }
 },
 "nbformat": 4,
 "nbformat_minor": 4
}
